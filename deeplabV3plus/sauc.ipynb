{
 "cells": [
  {
   "cell_type": "code",
   "execution_count": 1,
   "id": "cultural-tyler",
   "metadata": {},
   "outputs": [
    {
     "name": "stdout",
     "output_type": "stream",
     "text": [
      "/mnt/gpid07/imatge/manel.davins\n"
     ]
    }
   ],
   "source": [
    "%cd .."
   ]
  },
  {
   "cell_type": "code",
   "execution_count": 2,
   "id": "cooperative-essay",
   "metadata": {},
   "outputs": [],
   "source": [
    "from deeplab2.deeplabv3 import DeepLabV3Plus"
   ]
  },
  {
   "cell_type": "code",
   "execution_count": 3,
   "id": "higher-crystal",
   "metadata": {},
   "outputs": [],
   "source": [
    "from deeplab2 import encoders"
   ]
  },
  {
   "cell_type": "code",
   "execution_count": 4,
   "id": "brave-glance",
   "metadata": {},
   "outputs": [],
   "source": [
    "from typing import Optional\n",
    "import torch"
   ]
  },
  {
   "cell_type": "code",
   "execution_count": 5,
   "id": "structured-hobby",
   "metadata": {},
   "outputs": [],
   "source": [
    "from torchsummary import summary"
   ]
  },
  {
   "cell_type": "code",
   "execution_count": 6,
   "id": "threatened-volunteer",
   "metadata": {},
   "outputs": [],
   "source": [
    "model = DeepLabV3Plus(\n",
    "            encoder_name = \"resnet34\",\n",
    "            encoder_depth = 5,\n",
    "            encoder_weights = \"imagenet\",\n",
    "            encoder_output_stride = 16,\n",
    "            decoder_channels = 256,\n",
    "            decoder_atrous_rates = (12, 24, 36),\n",
    "            in_channels = 3,\n",
    "            classes = 12,\n",
    "            upsampling = 4)"
   ]
  },
  {
   "cell_type": "code",
   "execution_count": 7,
   "id": "optional-album",
   "metadata": {},
   "outputs": [],
   "source": [
    "model.cuda();"
   ]
  },
  {
   "cell_type": "code",
   "execution_count": 8,
   "id": "latter-geometry",
   "metadata": {},
   "outputs": [],
   "source": [
    "tensor_sauc = torch.ones(1, 3, 224, 224).cuda()"
   ]
  },
  {
   "cell_type": "code",
   "execution_count": 9,
   "id": "white-meter",
   "metadata": {},
   "outputs": [],
   "source": [
    "model.eval()\n",
    "output_manel = model(tensor_sauc)"
   ]
  },
  {
   "cell_type": "code",
   "execution_count": 10,
   "id": "virtual-falls",
   "metadata": {},
   "outputs": [
    {
     "data": {
      "text/plain": [
       "tensor([[0.0327, 0.0327, 0.0328,  ..., 0.0360, 0.0369, 0.0378],\n",
       "        [0.0333, 0.0337, 0.0340,  ..., 0.0368, 0.0377, 0.0385],\n",
       "        [0.0338, 0.0346, 0.0353,  ..., 0.0377, 0.0385, 0.0392],\n",
       "        ...,\n",
       "        [0.0390, 0.0393, 0.0397,  ..., 0.0379, 0.0379, 0.0380],\n",
       "        [0.0386, 0.0390, 0.0393,  ..., 0.0373, 0.0372, 0.0371],\n",
       "        [0.0382, 0.0386, 0.0390,  ..., 0.0367, 0.0365, 0.0363]],\n",
       "       device='cuda:0', grad_fn=<SelectBackward>)"
      ]
     },
     "execution_count": 10,
     "metadata": {},
     "output_type": "execute_result"
    }
   ],
   "source": [
    "output_manel[0][0]"
   ]
  },
  {
   "cell_type": "code",
   "execution_count": null,
   "id": "understood-attack",
   "metadata": {},
   "outputs": [],
   "source": []
  }
 ],
 "metadata": {
  "kernelspec": {
   "display_name": "myenv",
   "language": "python",
   "name": "myenv"
  },
  "language_info": {
   "codemirror_mode": {
    "name": "ipython",
    "version": 3
   },
   "file_extension": ".py",
   "mimetype": "text/x-python",
   "name": "python",
   "nbconvert_exporter": "python",
   "pygments_lexer": "ipython3",
   "version": "3.6.9"
  }
 },
 "nbformat": 4,
 "nbformat_minor": 5
}
